{
 "cells": [
  {
   "cell_type": "markdown",
   "source": [
    "## Imports and setup"
   ],
   "metadata": {}
  },
  {
   "cell_type": "code",
   "execution_count": 12,
   "source": [
    "# Grab data from ACS with cenpy (don't need to run every time!)\n",
    "# Variables:\n",
    "#    - total population (B01003_001E)\n",
    "#    - total white (B02008_001E)\n",
    "#    - total black (B02009_001E)\n",
    "#    - total asian (B02011_001E)\n",
    "#    - total hispanic (B03001_003E)\n",
    "#    - household income (B19001_001E)\n",
    "#    - median house price (B25077_001E)\n",
    "#    - total tenure (B25032_001E)\n",
    "#    - total owner occupied (B25032_002E)\n",
    "#    - total renter occupied (B25032_007E)\n",
    "#    - median contract rent (B25058_001E)\n",
    "#    - total in labor force (B23025_002E)\n",
    "#    - total employed (civilian) (B23025_004E)\n",
    "#    - total unemployed (civilian) (B23025_005E)\n",
    "\n",
    "countydata = gpd.GeoDataFrame()\n",
    "\n",
    "states = pd.read_csv('../utils/states.csv')['State'].values\n",
    "for state in tqdm(states):\n",
    "    countydata = countydata.append(acs.from_state(state=state, variables=variables, level='county'))\n",
    "\n",
    "countydata.to_csv('../data/ACS_countydata.csv')"
   ],
   "outputs": [
    {
     "output_type": "stream",
     "name": "stderr",
     "text": [
      "100%|██████████| 51/51 [19:02<00:00, 22.41s/it]\n"
     ]
    }
   ],
   "metadata": {}
  },
  {
   "cell_type": "code",
   "execution_count": 1,
   "source": [
    "import numpy as np\n",
    "import pandas as pd\n",
    "import geopandas as gpd\n",
    "import matplotlib.pyplot as plt\n",
    "from scipy.linalg import norm\n",
    "\n",
    "from tqdm import tqdm\n",
    "from cenpy.products import ACS\n",
    "from spint.gravity import Gravity, Attraction, Production\n",
    "\n",
    "acs = ACS()\n",
    "LA_FIPS = '06037'  # LA County FIPS code\n",
    "variables = ['B01003_001E', 'B02008_001E', 'B02009_001E', 'B02011_001E', 'B03001_003E', \\\n",
    "    'B19001_001E', 'B25077_001E', 'B25032_001E', 'B25032_002E', 'B25032_007E', \\\n",
    "    'B25058_001E', 'B23025_002E', 'B23025_004E', 'B23025_005E']\n",
    "\n",
    "import warnings\n",
    "warnings.simplefilter(action='ignore', category=FutureWarning)\n",
    "warnings.simplefilter(action='ignore', category=RuntimeWarning)"
   ],
   "outputs": [],
   "metadata": {}
  },
  {
   "cell_type": "markdown",
   "source": [
    "## Load data"
   ],
   "metadata": {}
  },
  {
   "cell_type": "code",
   "execution_count": 2,
   "source": [
    "# Flows\n",
    "inflows_raw = pd.read_csv('../data/LACounty_ACS_2014_2018_All_IN.csv', usecols=['State/County FIPS', 'Total', 'Margin of Error (+/-)']).replace(\"'\", \"\", regex=True)\n",
    "outflows_raw = pd.read_csv('../data/LACounty_ACS_2014_2018_All_OUT.csv', usecols=['State/County FIPS', 'Total', 'Margin of Error (+/-)']).replace(\"'\", \"\", regex=True)\n",
    "outflows_raw.rename(columns={'State/County FIPS' : 'destFIPS', 'Total' : 'total_out', 'Margin of Error (+/-)' : 'outMOE'}, inplace=True)\n",
    "inflows_raw.rename(columns={'State/County FIPS' : 'originFIPS', 'Total' : 'total_in', 'Margin of Error (+/-)' : 'inMOE'}, inplace=True)"
   ],
   "outputs": [],
   "metadata": {}
  },
  {
   "cell_type": "code",
   "execution_count": 3,
   "source": [
    "# County-level demographic data (and convert covariate columns)\n",
    "countydata = gpd.read_file('../data/ACS_countydata.csv', GEOM_POSSIBLE_NAMES=\"geometry\", KEEP_GEOM_COLUMNS=\"NO\").replace('', 0)\n",
    "for var in variables:\n",
    "    countydata[var] = countydata[var].astype(float)"
   ],
   "outputs": [],
   "metadata": {}
  },
  {
   "cell_type": "code",
   "execution_count": 4,
   "source": [
    "# Ping ACS for data for LA county\n",
    "la_data = acs.from_county(\"Los Angeles County, CA\", variables=variables, level='county')"
   ],
   "outputs": [],
   "metadata": {}
  },
  {
   "cell_type": "code",
   "execution_count": 5,
   "source": [
    "# Convert races, employment to percents\n",
    "countydata['pctwhite'] = countydata['B02008_001E'] / countydata['B01003_001E']\n",
    "countydata['pctblack'] = countydata['B02009_001E'] / countydata['B01003_001E']\n",
    "countydata['pctasian'] = countydata['B02011_001E'] / countydata['B01003_001E']\n",
    "countydata['pcthispa'] = countydata['B03001_003E'] / countydata['B01003_001E']\n",
    "countydata['pctemplo'] = countydata['B23025_004E'] / countydata['B01003_001E']\n",
    "countydata['pctunemp'] = countydata['B23025_005E'] / countydata['B01003_001E']\n",
    "\n",
    "la_data['pctwhite'] = la_data['B02008_001E'] / la_data['B01003_001E']\n",
    "la_data['pctblack'] = la_data['B02009_001E'] / la_data['B01003_001E']\n",
    "la_data['pctasian'] = la_data['B02011_001E'] / la_data['B01003_001E']\n",
    "la_data['pcthispa'] = la_data['B03001_003E'] / la_data['B01003_001E']\n",
    "la_data['pctemplo'] = la_data['B23025_004E'] / la_data['B01003_001E']\n",
    "la_data['pctunemp'] = la_data['B23025_005E'] / la_data['B01003_001E']"
   ],
   "outputs": [],
   "metadata": {}
  },
  {
   "cell_type": "code",
   "execution_count": 6,
   "source": [
    "plainvars = ['pctwhite', 'pctblack', 'pctasian', 'pcthispa', \\\n",
    "    'B19001_001E', 'B25077_001E', 'B25032_001E', 'B25032_002E', 'B25032_007E', \\\n",
    "    'B25058_001E', 'pctemplo', 'pctunemp']"
   ],
   "outputs": [],
   "metadata": {}
  },
  {
   "cell_type": "markdown",
   "source": [
    "## Rearrage data to prep for analysis"
   ],
   "metadata": {}
  },
  {
   "cell_type": "code",
   "execution_count": 7,
   "source": [
    "# Merge all the data into one big dataframe to make it simpler\n",
    "data = pd.merge(pd.merge(countydata, outflows_raw, how='inner', left_on='GEOID', right_on='destFIPS'), inflows_raw, how='inner', left_on='GEOID', right_on='originFIPS').set_crs(epsg=3395)\n",
    "la_covars = np.tile(la_data[plainvars].values, (data.shape[0], 1))  # repeat the data so that we account for the single location properly"
   ],
   "outputs": [],
   "metadata": {}
  },
  {
   "cell_type": "code",
   "execution_count": 8,
   "source": [
    "# costs are all distances between LA and the out or in destination\n",
    "coords = np.hstack((data.centroid.x.values.reshape(-1, 1), data.centroid.y.values.reshape(-1, 1)))\n",
    "la_coords = np.array([la_data.centroid.x[0], la_data.centroid.y[0]])\n",
    "cost = norm(la_coords - coords, axis=1)"
   ],
   "outputs": [],
   "metadata": {}
  },
  {
   "cell_type": "markdown",
   "source": [
    "## Calibrate model "
   ],
   "metadata": {}
  },
  {
   "cell_type": "code",
   "execution_count": 10,
   "source": [
    "data[plainvars]"
   ],
   "outputs": [
    {
     "output_type": "execute_result",
     "data": {
      "text/html": [
       "<div>\n",
       "<style scoped>\n",
       "    .dataframe tbody tr th:only-of-type {\n",
       "        vertical-align: middle;\n",
       "    }\n",
       "\n",
       "    .dataframe tbody tr th {\n",
       "        vertical-align: top;\n",
       "    }\n",
       "\n",
       "    .dataframe thead th {\n",
       "        text-align: right;\n",
       "    }\n",
       "</style>\n",
       "<table border=\"1\" class=\"dataframe\">\n",
       "  <thead>\n",
       "    <tr style=\"text-align: right;\">\n",
       "      <th></th>\n",
       "      <th>pctwhite</th>\n",
       "      <th>pctblack</th>\n",
       "      <th>pctasian</th>\n",
       "      <th>pcthispa</th>\n",
       "      <th>B19001_001E</th>\n",
       "      <th>B25077_001E</th>\n",
       "      <th>B25032_001E</th>\n",
       "      <th>B25032_002E</th>\n",
       "      <th>B25032_007E</th>\n",
       "      <th>B25058_001E</th>\n",
       "      <th>pctemplo</th>\n",
       "      <th>pctunemp</th>\n",
       "    </tr>\n",
       "  </thead>\n",
       "  <tbody>\n",
       "    <tr>\n",
       "      <th>0</th>\n",
       "      <td>0.571839</td>\n",
       "      <td>0.417700</td>\n",
       "      <td>0.002181</td>\n",
       "      <td>1.0</td>\n",
       "      <td>7620.0</td>\n",
       "      <td>91800.0</td>\n",
       "      <td>7620.0</td>\n",
       "      <td>5615.0</td>\n",
       "      <td>0.0</td>\n",
       "      <td>285.0</td>\n",
       "      <td>0.342241</td>\n",
       "      <td>0.047496</td>\n",
       "    </tr>\n",
       "    <tr>\n",
       "      <th>1</th>\n",
       "      <td>0.657423</td>\n",
       "      <td>0.317727</td>\n",
       "      <td>0.017904</td>\n",
       "      <td>1.0</td>\n",
       "      <td>71507.0</td>\n",
       "      <td>161700.0</td>\n",
       "      <td>71507.0</td>\n",
       "      <td>44920.0</td>\n",
       "      <td>27.0</td>\n",
       "      <td>624.0</td>\n",
       "      <td>0.444865</td>\n",
       "      <td>0.032139</td>\n",
       "    </tr>\n",
       "    <tr>\n",
       "      <th>2</th>\n",
       "      <td>0.823712</td>\n",
       "      <td>0.125613</td>\n",
       "      <td>0.024823</td>\n",
       "      <td>1.0</td>\n",
       "      <td>76868.0</td>\n",
       "      <td>199500.0</td>\n",
       "      <td>76868.0</td>\n",
       "      <td>61189.0</td>\n",
       "      <td>81.0</td>\n",
       "      <td>801.0</td>\n",
       "      <td>0.498718</td>\n",
       "      <td>0.022279</td>\n",
       "    </tr>\n",
       "    <tr>\n",
       "      <th>3</th>\n",
       "      <td>0.711386</td>\n",
       "      <td>0.277923</td>\n",
       "      <td>0.012276</td>\n",
       "      <td>1.0</td>\n",
       "      <td>39560.0</td>\n",
       "      <td>127100.0</td>\n",
       "      <td>39560.0</td>\n",
       "      <td>25570.0</td>\n",
       "      <td>10.0</td>\n",
       "      <td>531.0</td>\n",
       "      <td>0.423675</td>\n",
       "      <td>0.034983</td>\n",
       "    </tr>\n",
       "    <tr>\n",
       "      <th>4</th>\n",
       "      <td>0.878319</td>\n",
       "      <td>0.098628</td>\n",
       "      <td>0.013016</td>\n",
       "      <td>1.0</td>\n",
       "      <td>76133.0</td>\n",
       "      <td>182000.0</td>\n",
       "      <td>76133.0</td>\n",
       "      <td>55470.0</td>\n",
       "      <td>214.0</td>\n",
       "      <td>731.0</td>\n",
       "      <td>0.440239</td>\n",
       "      <td>0.025644</td>\n",
       "    </tr>\n",
       "    <tr>\n",
       "      <th>...</th>\n",
       "      <td>...</td>\n",
       "      <td>...</td>\n",
       "      <td>...</td>\n",
       "      <td>...</td>\n",
       "      <td>...</td>\n",
       "      <td>...</td>\n",
       "      <td>...</td>\n",
       "      <td>...</td>\n",
       "      <td>...</td>\n",
       "      <td>...</td>\n",
       "      <td>...</td>\n",
       "      <td>...</td>\n",
       "    </tr>\n",
       "    <tr>\n",
       "      <th>1297</th>\n",
       "      <td>0.764410</td>\n",
       "      <td>0.008302</td>\n",
       "      <td>0.003568</td>\n",
       "      <td>1.0</td>\n",
       "      <td>15167.0</td>\n",
       "      <td>189700.0</td>\n",
       "      <td>15167.0</td>\n",
       "      <td>10699.0</td>\n",
       "      <td>0.0</td>\n",
       "      <td>627.0</td>\n",
       "      <td>0.462755</td>\n",
       "      <td>0.029291</td>\n",
       "    </tr>\n",
       "    <tr>\n",
       "      <th>1298</th>\n",
       "      <td>0.980789</td>\n",
       "      <td>0.007504</td>\n",
       "      <td>0.009207</td>\n",
       "      <td>1.0</td>\n",
       "      <td>7063.0</td>\n",
       "      <td>205900.0</td>\n",
       "      <td>7063.0</td>\n",
       "      <td>5539.0</td>\n",
       "      <td>4.0</td>\n",
       "      <td>684.0</td>\n",
       "      <td>0.485552</td>\n",
       "      <td>0.030759</td>\n",
       "    </tr>\n",
       "    <tr>\n",
       "      <th>1299</th>\n",
       "      <td>0.952860</td>\n",
       "      <td>0.014261</td>\n",
       "      <td>0.013722</td>\n",
       "      <td>1.0</td>\n",
       "      <td>16269.0</td>\n",
       "      <td>201000.0</td>\n",
       "      <td>16269.0</td>\n",
       "      <td>12001.0</td>\n",
       "      <td>17.0</td>\n",
       "      <td>772.0</td>\n",
       "      <td>0.510679</td>\n",
       "      <td>0.027961</td>\n",
       "    </tr>\n",
       "    <tr>\n",
       "      <th>1300</th>\n",
       "      <td>0.929475</td>\n",
       "      <td>0.024668</td>\n",
       "      <td>0.043380</td>\n",
       "      <td>1.0</td>\n",
       "      <td>16009.0</td>\n",
       "      <td>223000.0</td>\n",
       "      <td>16009.0</td>\n",
       "      <td>7940.0</td>\n",
       "      <td>18.0</td>\n",
       "      <td>678.0</td>\n",
       "      <td>0.556478</td>\n",
       "      <td>0.027857</td>\n",
       "    </tr>\n",
       "    <tr>\n",
       "      <th>1301</th>\n",
       "      <td>0.972358</td>\n",
       "      <td>0.009061</td>\n",
       "      <td>0.009997</td>\n",
       "      <td>1.0</td>\n",
       "      <td>17588.0</td>\n",
       "      <td>213900.0</td>\n",
       "      <td>17588.0</td>\n",
       "      <td>12575.0</td>\n",
       "      <td>0.0</td>\n",
       "      <td>829.0</td>\n",
       "      <td>0.530198</td>\n",
       "      <td>0.025542</td>\n",
       "    </tr>\n",
       "  </tbody>\n",
       "</table>\n",
       "<p>1302 rows × 12 columns</p>\n",
       "</div>"
      ],
      "text/plain": [
       "      pctwhite  pctblack  pctasian  pcthispa  B19001_001E  B25077_001E  \\\n",
       "0     0.571839  0.417700  0.002181       1.0       7620.0      91800.0   \n",
       "1     0.657423  0.317727  0.017904       1.0      71507.0     161700.0   \n",
       "2     0.823712  0.125613  0.024823       1.0      76868.0     199500.0   \n",
       "3     0.711386  0.277923  0.012276       1.0      39560.0     127100.0   \n",
       "4     0.878319  0.098628  0.013016       1.0      76133.0     182000.0   \n",
       "...        ...       ...       ...       ...          ...          ...   \n",
       "1297  0.764410  0.008302  0.003568       1.0      15167.0     189700.0   \n",
       "1298  0.980789  0.007504  0.009207       1.0       7063.0     205900.0   \n",
       "1299  0.952860  0.014261  0.013722       1.0      16269.0     201000.0   \n",
       "1300  0.929475  0.024668  0.043380       1.0      16009.0     223000.0   \n",
       "1301  0.972358  0.009061  0.009997       1.0      17588.0     213900.0   \n",
       "\n",
       "      B25032_001E  B25032_002E  B25032_007E  B25058_001E  pctemplo  pctunemp  \n",
       "0          7620.0       5615.0          0.0        285.0  0.342241  0.047496  \n",
       "1         71507.0      44920.0         27.0        624.0  0.444865  0.032139  \n",
       "2         76868.0      61189.0         81.0        801.0  0.498718  0.022279  \n",
       "3         39560.0      25570.0         10.0        531.0  0.423675  0.034983  \n",
       "4         76133.0      55470.0        214.0        731.0  0.440239  0.025644  \n",
       "...           ...          ...          ...          ...       ...       ...  \n",
       "1297      15167.0      10699.0          0.0        627.0  0.462755  0.029291  \n",
       "1298       7063.0       5539.0          4.0        684.0  0.485552  0.030759  \n",
       "1299      16269.0      12001.0         17.0        772.0  0.510679  0.027961  \n",
       "1300      16009.0       7940.0         18.0        678.0  0.556478  0.027857  \n",
       "1301      17588.0      12575.0          0.0        829.0  0.530198  0.025542  \n",
       "\n",
       "[1302 rows x 12 columns]"
      ]
     },
     "metadata": {},
     "execution_count": 10
    }
   ],
   "metadata": {}
  },
  {
   "cell_type": "code",
   "execution_count": 9,
   "source": [
    "model = Gravity(flows=data['total_out'].values, o_vars=la_covars, d_vars=data[plainvars].values, cost=cost, cost_func='exp', constant=False)"
   ],
   "outputs": [
    {
     "output_type": "error",
     "ename": "ValueError",
     "evalue": "Zero values detected in column 1 of destination variables, which are undefined for Poisson log-linear spatial interaction models",
     "traceback": [
      "\u001b[0;31m---------------------------------------------------------------------------\u001b[0m",
      "\u001b[0;31mValueError\u001b[0m                                Traceback (most recent call last)",
      "\u001b[0;32m/tmp/ipykernel_3187/2651135583.py\u001b[0m in \u001b[0;36m<module>\u001b[0;34m\u001b[0m\n\u001b[0;32m----> 1\u001b[0;31m \u001b[0mmodel\u001b[0m \u001b[0;34m=\u001b[0m \u001b[0mGravity\u001b[0m\u001b[0;34m(\u001b[0m\u001b[0mflows\u001b[0m\u001b[0;34m=\u001b[0m\u001b[0mdata\u001b[0m\u001b[0;34m[\u001b[0m\u001b[0;34m'total_out'\u001b[0m\u001b[0;34m]\u001b[0m\u001b[0;34m.\u001b[0m\u001b[0mvalues\u001b[0m\u001b[0;34m,\u001b[0m \u001b[0mo_vars\u001b[0m\u001b[0;34m=\u001b[0m\u001b[0mla_covars\u001b[0m\u001b[0;34m,\u001b[0m \u001b[0md_vars\u001b[0m\u001b[0;34m=\u001b[0m\u001b[0mdata\u001b[0m\u001b[0;34m[\u001b[0m\u001b[0mplainvars\u001b[0m\u001b[0;34m]\u001b[0m\u001b[0;34m.\u001b[0m\u001b[0mvalues\u001b[0m\u001b[0;34m,\u001b[0m \u001b[0mcost\u001b[0m\u001b[0;34m=\u001b[0m\u001b[0mcost\u001b[0m\u001b[0;34m,\u001b[0m \u001b[0mcost_func\u001b[0m\u001b[0;34m=\u001b[0m\u001b[0;34m'exp'\u001b[0m\u001b[0;34m,\u001b[0m \u001b[0mconstant\u001b[0m\u001b[0;34m=\u001b[0m\u001b[0;32mFalse\u001b[0m\u001b[0;34m)\u001b[0m\u001b[0;34m\u001b[0m\u001b[0;34m\u001b[0m\u001b[0m\n\u001b[0m",
      "\u001b[0;32m~/anaconda3/envs/gds/lib/python3.8/site-packages/spint/gravity.py\u001b[0m in \u001b[0;36m__init__\u001b[0;34m(self, flows, o_vars, d_vars, cost, cost_func, constant, framework, SF, CD, Lag, Quasi)\u001b[0m\n\u001b[1;32m    460\u001b[0m         \u001b[0;31m#User.check_arrays(self.f, self.ov, self.dv, self.c)\u001b[0m\u001b[0;34m\u001b[0m\u001b[0;34m\u001b[0m\u001b[0;34m\u001b[0m\u001b[0m\n\u001b[1;32m    461\u001b[0m \u001b[0;34m\u001b[0m\u001b[0m\n\u001b[0;32m--> 462\u001b[0;31m         BaseGravity.__init__(\n\u001b[0m\u001b[1;32m    463\u001b[0m             \u001b[0mself\u001b[0m\u001b[0;34m,\u001b[0m\u001b[0;34m\u001b[0m\u001b[0;34m\u001b[0m\u001b[0m\n\u001b[1;32m    464\u001b[0m             \u001b[0mself\u001b[0m\u001b[0;34m.\u001b[0m\u001b[0mf\u001b[0m\u001b[0;34m,\u001b[0m\u001b[0;34m\u001b[0m\u001b[0;34m\u001b[0m\u001b[0m\n",
      "\u001b[0;32m~/anaconda3/envs/gds/lib/python3.8/site-packages/spint/gravity.py\u001b[0m in \u001b[0;36m__init__\u001b[0;34m(self, flows, cost, cost_func, o_vars, d_vars, origins, destinations, constant, framework, SF, CD, Lag, Quasi)\u001b[0m\n\u001b[1;32m    235\u001b[0m                 \u001b[0;32mfor\u001b[0m \u001b[0meach\u001b[0m \u001b[0;32min\u001b[0m \u001b[0mrange\u001b[0m\u001b[0;34m(\u001b[0m\u001b[0mself\u001b[0m\u001b[0;34m.\u001b[0m\u001b[0mdv\u001b[0m\u001b[0;34m.\u001b[0m\u001b[0mshape\u001b[0m\u001b[0;34m[\u001b[0m\u001b[0;36m1\u001b[0m\u001b[0;34m]\u001b[0m\u001b[0;34m)\u001b[0m\u001b[0;34m:\u001b[0m\u001b[0;34m\u001b[0m\u001b[0;34m\u001b[0m\u001b[0m\n\u001b[1;32m    236\u001b[0m                     \u001b[0;32mif\u001b[0m \u001b[0;34m(\u001b[0m\u001b[0mself\u001b[0m\u001b[0;34m.\u001b[0m\u001b[0mdv\u001b[0m\u001b[0;34m[\u001b[0m\u001b[0;34m:\u001b[0m\u001b[0;34m,\u001b[0m \u001b[0meach\u001b[0m\u001b[0;34m]\u001b[0m \u001b[0;34m==\u001b[0m \u001b[0;36m0\u001b[0m\u001b[0;34m)\u001b[0m\u001b[0;34m.\u001b[0m\u001b[0many\u001b[0m\u001b[0;34m(\u001b[0m\u001b[0;34m)\u001b[0m\u001b[0;34m:\u001b[0m\u001b[0;34m\u001b[0m\u001b[0;34m\u001b[0m\u001b[0m\n\u001b[0;32m--> 237\u001b[0;31m                         raise ValueError(\n\u001b[0m\u001b[1;32m    238\u001b[0m                             \u001b[0;34m\"Zero values detected in column %s \"\u001b[0m\u001b[0;34m\u001b[0m\u001b[0;34m\u001b[0m\u001b[0m\n\u001b[1;32m    239\u001b[0m                             \u001b[0;34m\"of destination variables, which are undefined for \"\u001b[0m\u001b[0;34m\u001b[0m\u001b[0;34m\u001b[0m\u001b[0m\n",
      "\u001b[0;31mValueError\u001b[0m: Zero values detected in column 1 of destination variables, which are undefined for Poisson log-linear spatial interaction models"
     ]
    }
   ],
   "metadata": {}
  },
  {
   "cell_type": "code",
   "execution_count": null,
   "source": [
    "paramnames = [*[x + '_o' for x in variables], *[x + '_d' for x in variables], 'distance']\n",
    "pd.DataFrame(data={'paramname' : paramnames, 'paramval' : model.params, 'SE' : model.std_err, 'tvalue' : model.tvalues, 'pvalue' : model.pvalues})  # intercept, origin attrs, dest attrs, distance"
   ],
   "outputs": [],
   "metadata": {}
  },
  {
   "cell_type": "code",
   "execution_count": null,
   "source": [
    "model.SRMSE"
   ],
   "outputs": [],
   "metadata": {}
  },
  {
   "cell_type": "code",
   "execution_count": null,
   "source": [
    "out_model = Production(flows=data['total_out'].values, origins=data['originFIPS'].values, d_vars=data[variables].values, cost=cost, cost_func='exp')\n",
    "in_model = Attraction(flows=data['total_in'].values, destinations=data['destFIPS'].values, o_vars=data[variables].values, cost=cost, cost_func='exp')"
   ],
   "outputs": [],
   "metadata": {}
  },
  {
   "cell_type": "code",
   "execution_count": null,
   "source": [],
   "outputs": [],
   "metadata": {}
  }
 ],
 "metadata": {
  "orig_nbformat": 4,
  "language_info": {
   "name": "python",
   "version": "3.8.10",
   "mimetype": "text/x-python",
   "codemirror_mode": {
    "name": "ipython",
    "version": 3
   },
   "pygments_lexer": "ipython3",
   "nbconvert_exporter": "python",
   "file_extension": ".py"
  },
  "kernelspec": {
   "name": "python3",
   "display_name": "Python 3.8.10 64-bit ('gds': conda)"
  },
  "interpreter": {
   "hash": "75d947b7d4754d15edb66e6f2eb9e6a1bb5e791cae6c10b9f73e0971423a2190"
  }
 },
 "nbformat": 4,
 "nbformat_minor": 2
}