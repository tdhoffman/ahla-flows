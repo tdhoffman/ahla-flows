{
 "cells": [
  {
   "cell_type": "markdown",
   "source": [
    "## Imports and setup"
   ],
   "metadata": {}
  },
  {
   "cell_type": "code",
   "execution_count": 3,
   "source": [
    "# Grab data from ACS with cenpy (don't need to run every time!)\n",
    "# Variables:\n",
    "#    - total population (B01003_001E)\n",
    "#    - total white (B02008_001E)\n",
    "#    - total black (B02009_001E)\n",
    "#    - total asian (B02011_001E)\n",
    "#    - total hispanic (B03001_001E)\n",
    "#    - household income (B19001_001E)\n",
    "#    - median house price (B25077_001E)\n",
    "#    - total tenure (B25032_001E)\n",
    "#    - total owner occupied (B25032_002E)\n",
    "#    - total renter occupied (B25032_007E)\n",
    "#    - median contract rent (B25058_001E)\n",
    "#    - total in labor force (B23025_002E)\n",
    "#    - total employed (civilian) (B23025_004E)\n",
    "#    - total unemployed (civilian) (B23025_005E)\n",
    "\n",
    "countydata = gpd.GeoDataFrame()\n",
    "\n",
    "states = pd.read_csv('../data/states.csv')['State'].values\n",
    "for state in tqdm(states):\n",
    "    countydata = countydata.append(acs.from_state(state=state, variables=variables, level='county'))\n",
    "\n",
    "countydata.to_csv('../data/ACS_countydata.csv')"
   ],
   "outputs": [
    {
     "output_type": "stream",
     "name": "stderr",
     "text": [
      "100%|██████████| 51/51 [19:43<00:00, 23.21s/it]\n"
     ]
    }
   ],
   "metadata": {}
  },
  {
   "cell_type": "code",
   "execution_count": 1,
   "source": [
    "import numpy as np\n",
    "import pandas as pd\n",
    "import geopandas as gpd\n",
    "import matplotlib.pyplot as plt\n",
    "from scipy.linalg import norm\n",
    "\n",
    "from tqdm import tqdm\n",
    "from cenpy.products import ACS\n",
    "from spint.gravity import Gravity, Attraction, Production\n",
    "\n",
    "acs = ACS()\n",
    "LA_FIPS = '06037'  # LA County FIPS code\n",
    "variables = ['B01003_001E', 'B02008_001E', 'B02009_001E', 'B02011_001E', 'B03001_001E', \\\n",
    "    'B19001_001E', 'B25077_001E', 'B25032_001E', 'B25032_002E', 'B25032_007E', \\\n",
    "    'B25058_001E', 'B23025_002E', 'B23025_004E', 'B23025_005E']\n",
    "\n",
    "import warnings\n",
    "warnings.simplefilter(action='ignore', category=FutureWarning)\n",
    "warnings.simplefilter(action='ignore', category=RuntimeWarning)"
   ],
   "outputs": [],
   "metadata": {}
  },
  {
   "cell_type": "markdown",
   "source": [
    "## Load data"
   ],
   "metadata": {}
  },
  {
   "cell_type": "code",
   "execution_count": null,
   "source": [
    "# Flows\n",
    "inflows_raw = pd.read_csv('../data/LACounty_ACS_2014_2018_All_IN.csv', usecols=['State/County FIPS', 'Total', 'Margin of Error (+/-)']).replace(\"'\", \"\", regex=True)\n",
    "outflows_raw = pd.read_csv('../data/LACounty_ACS_2014_2018_All_OUT.csv', usecols=['State/County FIPS', 'Total', 'Margin of Error (+/-)']).replace(\"'\", \"\", regex=True)\n",
    "outflows_raw.rename(columns={'State/County FIPS' : 'destFIPS', 'Total' : 'total_out', 'Margin of Error (+/-)' : 'outMOE'}, inplace=True)\n",
    "inflows_raw.rename(columns={'State/County FIPS' : 'originFIPS', 'Total' : 'total_in', 'Margin of Error (+/-)' : 'inMOE'}, inplace=True)"
   ],
   "outputs": [],
   "metadata": {}
  },
  {
   "cell_type": "code",
   "execution_count": null,
   "source": [
    "# County-level demographic data (and convert covariate columns)\n",
    "countydata = gpd.read_file('../data/ACS_countydata.csv', GEOM_POSSIBLE_NAMES=\"geometry\", KEEP_GEOM_COLUMNS=\"NO\").replace('', 0)\n",
    "countydata['B00002_001E'] = countydata['B00002_001E'].astype(float)\n",
    "countydata['B19001_001E'] = countydata['B19001_001E'].astype(float)\n",
    "countydata['B25076_001E'] = countydata['B25076_001E'].astype(float)\n",
    "countydata['B25077_001E'] = countydata['B25077_001E'].astype(float)\n",
    "countydata['B25078_001E'] = countydata['B25078_001E'].astype(float)"
   ],
   "outputs": [],
   "metadata": {}
  },
  {
   "cell_type": "code",
   "execution_count": null,
   "source": [
    "# Ping ACS for data for LA county\n",
    "la_data = acs.from_county(\"Los Angeles County, CA\", variables=['B19001_001E', 'B25076_001E', 'B25077_001E', 'B25078_001E', 'B00002_001E'], level='county')"
   ],
   "outputs": [],
   "metadata": {}
  },
  {
   "cell_type": "markdown",
   "source": [
    "## Rearrage data to prep for analysis"
   ],
   "metadata": {}
  },
  {
   "cell_type": "code",
   "execution_count": null,
   "source": [
    "# Merge all the data into one big dataframe to make it simpler\n",
    "data = pd.merge(pd.merge(countydata, outflows_raw, how='inner', left_on='GEOID', right_on='destFIPS'), inflows_raw, how='inner', left_on='GEOID', right_on='originFIPS').set_crs(epsg=3395)\n",
    "la_covars = np.tile(la_data[variables].values, (data.shape[0], 1))  # repeat the data so that we account for the single location properly"
   ],
   "outputs": [],
   "metadata": {}
  },
  {
   "cell_type": "code",
   "execution_count": null,
   "source": [
    "# costs are all distances between LA and the out or in destination\n",
    "coords = np.hstack((data.centroid.x.values.reshape(-1, 1), data.centroid.y.values.reshape(-1, 1)))\n",
    "la_coords = np.array([la_data.centroid.x[0], la_data.centroid.y[0]])\n",
    "cost = norm(la_coords - coords, axis=1)"
   ],
   "outputs": [],
   "metadata": {}
  },
  {
   "cell_type": "markdown",
   "source": [
    "## Calibrate model "
   ],
   "metadata": {}
  },
  {
   "cell_type": "code",
   "execution_count": null,
   "source": [
    "model = Gravity(flows=data['total_out'].values, o_vars=la_covars, d_vars=data[variables].values, cost=cost, cost_func='exp', constant=False)"
   ],
   "outputs": [],
   "metadata": {}
  },
  {
   "cell_type": "code",
   "execution_count": null,
   "source": [
    "paramnames = [*[x + '_o' for x in variables], *[x + '_d' for x in variables], 'distance']\n",
    "pd.DataFrame(data={'paramname' : paramnames, 'paramval' : model.params, 'SE' : model.std_err, 'tvalue' : model.tvalues, 'pvalue' : model.pvalues})  # intercept, origin attrs, dest attrs, distance"
   ],
   "outputs": [],
   "metadata": {}
  },
  {
   "cell_type": "code",
   "execution_count": null,
   "source": [
    "model.SRMSE"
   ],
   "outputs": [],
   "metadata": {}
  },
  {
   "cell_type": "code",
   "execution_count": null,
   "source": [
    "out_model = Production(flows=data['total_out'].values, origins=data['originFIPS'].values, d_vars=data[variables].values, cost=cost, cost_func='exp')\n",
    "in_model = Attraction(flows=data['total_in'].values, destinations=data['destFIPS'].values, o_vars=data[variables].values, cost=cost, cost_func='exp')"
   ],
   "outputs": [],
   "metadata": {}
  },
  {
   "cell_type": "code",
   "execution_count": null,
   "source": [],
   "outputs": [],
   "metadata": {}
  }
 ],
 "metadata": {
  "orig_nbformat": 4,
  "language_info": {
   "name": "python",
   "version": "3.8.10",
   "mimetype": "text/x-python",
   "codemirror_mode": {
    "name": "ipython",
    "version": 3
   },
   "pygments_lexer": "ipython3",
   "nbconvert_exporter": "python",
   "file_extension": ".py"
  },
  "kernelspec": {
   "name": "python3",
   "display_name": "Python 3.8.10 64-bit ('gds': conda)"
  },
  "interpreter": {
   "hash": "75d947b7d4754d15edb66e6f2eb9e6a1bb5e791cae6c10b9f73e0971423a2190"
  }
 },
 "nbformat": 4,
 "nbformat_minor": 2
}